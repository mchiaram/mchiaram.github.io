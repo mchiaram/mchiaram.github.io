{
 "cells": [
  {
   "cell_type": "code",
   "execution_count": 29,
   "metadata": {},
   "outputs": [],
   "source": [
    "#! Import some useful packages\n",
    "#! For plotting\n",
    "import matplotlib.pyplot as plt\n",
    "#! For symbolic utilities\n",
    "import sympy as sp\n",
    "#! import the FEniCS \n",
    "from dolfin import *"
   ]
  },
  {
   "cell_type": "code",
   "execution_count": 30,
   "metadata": {},
   "outputs": [],
   "source": [
    "#! Construct an analytica solution\n",
    "g = lambda x:  sp.exp(x)*pow(x,2)*sp.cos(x*5*sp.pi)\n",
    "\n",
    "#! Define the sympy variable\n",
    "x = sp.Symbol('x[0]')\n",
    "\n",
    "# Convert lambda function to sympy\n",
    "ue_code = sp.printing.ccode(g(x))\n",
    "\n",
    "#! Use sympy to get forcing term\n",
    "AE = 1.0 \n",
    "f =  AE*sp.diff(g(x),x,2)\n",
    "f_code = sp.printing.ccode(f)"
   ]
  },
  {
   "cell_type": "code",
   "execution_count": 31,
   "metadata": {},
   "outputs": [
    {
     "name": "stdout",
     "output_type": "stream",
     "text": [
      "1.0*(-10*pi*x[0]**2*sin(5*pi*x[0]) - 25*pi**2*x[0]**2*cos(5*pi*x[0]) + x[0]**2*cos(5*pi*x[0]) - 20*pi*x[0]*sin(5*pi*x[0]) + 4*x[0]*cos(5*pi*x[0]) + 2*cos(5*pi*x[0]))*exp(x[0])\n",
      "1.0*(-10*M_PI*pow(x[0], 2)*sin(5*M_PI*x[0]) - 25*pow(M_PI, 2)*pow(x[0], 2)*cos(5*M_PI*x[0]) + pow(x[0], 2)*cos(5*M_PI*x[0]) - 20*M_PI*x[0]*sin(5*M_PI*x[0]) + 4*x[0]*cos(5*M_PI*x[0]) + 2*cos(5*M_PI*x[0]))*exp(x[0])\n"
     ]
    }
   ],
   "source": [
    "#! Print the analytical solution\n",
    "print( f )#! The sympy expression\n",
    "print( f_code ) #! The sympy expression written in python code"
   ]
  },
  {
   "cell_type": "code",
   "execution_count": 32,
   "metadata": {},
   "outputs": [
    {
     "data": {
      "image/png": "[encoded data removed]",
      "text/plain": [
       "<Figure size 432x288 with 1 Axes>"
      ]
     },
     "metadata": {},
     "output_type": "display_data"
    }
   ],
   "source": [
    "#! Create the mesh\n",
    "ndiv = 3\n",
    "mesh = UnitIntervalMesh(pow(2,ndiv))\n",
    "plot(mesh) ;"
   ]
  },
  {
   "cell_type": "code",
   "execution_count": 33,
   "metadata": {},
   "outputs": [],
   "source": [
    "#! Creat finite element space\n",
    "poly_order = 1\n",
    "V = FunctionSpace(mesh,\"Lagrange\",poly_order)\n",
    "\n",
    "#! Create trial and test function\n",
    "u = TrialFunction(V)\n",
    "v = TestFunction(V)\n",
    "uh = Function(V)"
   ]
  },
  {
   "cell_type": "code",
   "execution_count": 34,
   "metadata": {},
   "outputs": [],
   "source": [
    "#! The Bilinear form\n",
    "a = AE*inner( grad(u), grad(v) )*dx"
   ]
  },
  {
   "cell_type": "code",
   "execution_count": 35,
   "metadata": {},
   "outputs": [],
   "source": [
    "#! The source term \n",
    "f = Expression(f_code, degree=4)\n",
    "F = -1*inner(f,v )*dx"
   ]
  },
  {
   "cell_type": "code",
   "execution_count": 36,
   "metadata": {},
   "outputs": [],
   "source": [
    "#! Boundaries \n",
    "def boundary(x, on_boundary): \n",
    "    return on_boundary\n",
    "\n",
    "#! Boundary conditions \n",
    "ue = Expression(ue_code,degree=4)\n",
    "bc_dirichlet = DirichletBC(V, ue, boundary )"
   ]
  },
  {
   "cell_type": "code",
   "execution_count": 37,
   "metadata": {},
   "outputs": [],
   "source": [
    "#! Solve the problem\n",
    "solve( a == F, uh, bc_dirichlet)"
   ]
  },
  {
   "cell_type": "code",
   "execution_count": 40,
   "metadata": {},
   "outputs": [
    {
     "data": {
      "image/png": "[encoded data removed]",
      "text/plain": [
       "<Figure size 432x288 with 1 Axes>"
      ]
     },
     "metadata": {},
     "output_type": "display_data"
    }
   ],
   "source": [
    "#! Plot the computed solution\n",
    "plot(uh, wireframe = True) ;\n",
    "\n",
    "#! Plot the interpolated exact solution\n",
    "#! Construct a much finer mesh\n",
    "mesh_fine = UnitIntervalMesh(pow(2,6))\n",
    "V_fine = FunctionSpace(mesh_fine,\"Lagrange\",poly_order)\n",
    "\n",
    "# Interpolate the analytical solution on the finer mesh\n",
    "ue_h = interpolate( ue, V_fine) \n",
    "\n",
    "#! Plot the analytical solution\n",
    "plot(ue_h)  ; \n"
   ]
  },
  {
   "cell_type": "code",
   "execution_count": null,
   "metadata": {},
   "outputs": [],
   "source": []
  },
  {
   "cell_type": "code",
   "execution_count": null,
   "metadata": {},
   "outputs": [],
   "source": []
  }
 ],
 "metadata": {
  "kernelspec": {
   "display_name": "Python 3",
   "language": "python",
   "name": "python3"
  },
  "language_info": {
   "codemirror_mode": {
    "name": "ipython",
    "version": 3
   },
   "file_extension": ".py",
   "mimetype": "text/x-python",
   "name": "python",
   "nbconvert_exporter": "python",
   "pygments_lexer": "ipython3",
   "version": "3.5.6"
  }
 },
 "nbformat": 4,
 "nbformat_minor": 2
}
