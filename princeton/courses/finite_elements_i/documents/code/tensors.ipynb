{
 "cells": [
  {
   "cell_type": "markdown",
   "metadata": {},
   "source": [
    "# Tensors"
   ]
  },
  {
   "cell_type": "code",
   "execution_count": 3,
   "metadata": {},
   "outputs": [],
   "source": [
    "import numpy as np \n",
    "import matplotlib.pyplot as plt"
   ]
  },
  {
   "cell_type": "markdown",
   "metadata": {},
   "source": [
    "## Tensor/vector operations\n",
    "\n",
    "Here we look at how to construct a tensor given two vectors $a, b \\in \\mathbb{R}^d$ and see how to operate on a third vector $c \\in \\mathbb{R}^d$"
   ]
  },
  {
   "cell_type": "code",
   "execution_count": 4,
   "metadata": {},
   "outputs": [],
   "source": [
    "# We first define the vectors that are the \"legs\" of our tensor\n",
    "a = np.array([1,2])\n",
    "b = np.array([2,1])"
   ]
  },
  {
   "cell_type": "code",
   "execution_count": 6,
   "metadata": {},
   "outputs": [
    {
     "data": {
      "image/png": "[encoded data removed]",
      "text/plain": [
       "<Figure size 432x288 with 1 Axes>"
      ]
     },
     "metadata": {},
     "output_type": "display_data"
    }
   ],
   "source": [
    "# Plot them just for fun\n",
    "o = [0],[0] # the origin of our vector, not really important here\n",
    "plt.quiver(*o,a[0],a[1],angles='xy', scale_units='xy',scale=1,color='g')\n",
    "plt.quiver(*o,b[0],b[1],angles='xy', scale_units='xy',scale=1,color='b')\n",
    "plt.xlim([-3,3])\n",
    "plt.ylim([-3,3])\n",
    "plt.grid(True)\n",
    "plt.show()"
   ]
  },
  {
   "cell_type": "markdown",
   "metadata": {},
   "source": [
    "$\\otimes$"
   ]
  },
  {
   "cell_type": "code",
   "execution_count": 9,
   "metadata": {},
   "outputs": [
    {
     "name": "stdout",
     "output_type": "stream",
     "text": [
      "[[2 1]\n",
      " [4 2]]\n"
     ]
    }
   ],
   "source": [
    "# Now we construct the tensor\n",
    "A = np.tensordot(a,b,axes=0)\n",
    "print(A)"
   ]
  },
  {
   "cell_type": "code",
   "execution_count": 135,
   "metadata": {},
   "outputs": [
    {
     "name": "stdout",
     "output_type": "stream",
     "text": [
      "[[2 1]\n",
      " [4 2]]\n"
     ]
    }
   ],
   "source": [
    "# Note this is the same as\n",
    "A = np.outer(a,b)\n",
    "print(A)"
   ]
  },
  {
   "cell_type": "code",
   "execution_count": 10,
   "metadata": {},
   "outputs": [],
   "source": [
    "# Define the vector c on which we wish to perform an operation\n",
    "c = np.array([0,-1])"
   ]
  },
  {
   "cell_type": "code",
   "execution_count": 11,
   "metadata": {},
   "outputs": [
    {
     "data": {
      "image/png": "[encoded data removed]",
      "text/plain": [
       "<Figure size 432x288 with 1 Axes>"
      ]
     },
     "metadata": {},
     "output_type": "display_data"
    }
   ],
   "source": [
    "# Plot them just for fun\n",
    "o = [0],[0] # the origin of our vector, not really important here\n",
    "plt.quiver(*o,a[0],a[1],angles='xy', scale_units='xy',scale=1,color='g')\n",
    "plt.quiver(*o,b[0],b[1],angles='xy', scale_units='xy',scale=1,color='b')\n",
    "plt.quiver(*o,c[0],c[1],angles='xy', scale_units='xy',scale=1,color='r')\n",
    "plt.xlim([-3,3])\n",
    "plt.ylim([-3,3])\n",
    "plt.grid(True)\n",
    "plt.show()"
   ]
  },
  {
   "cell_type": "code",
   "execution_count": 13,
   "metadata": {},
   "outputs": [
    {
     "name": "stdout",
     "output_type": "stream",
     "text": [
      "[-1 -2]\n"
     ]
    }
   ],
   "source": [
    "# Transform c with the operation\n",
    "d = np.dot(A,c)\n",
    "print(d)"
   ]
  },
  {
   "cell_type": "code",
   "execution_count": 14,
   "metadata": {},
   "outputs": [
    {
     "name": "stdout",
     "output_type": "stream",
     "text": [
      "[-1 -2]\n"
     ]
    }
   ],
   "source": [
    "# The above is equivalent to\n",
    "d = a*np.dot(b,c)\n",
    "print(d)"
   ]
  },
  {
   "cell_type": "code",
   "execution_count": 15,
   "metadata": {},
   "outputs": [
    {
     "name": "stdout",
     "output_type": "stream",
     "text": [
      "This is NOT what we want:\n",
      " [[ 0 -1]\n",
      " [ 0 -2]]\n"
     ]
    }
   ],
   "source": [
    "# NOTE!!!! Do NOT do this!!\n",
    "d_not =A*c \n",
    "print('This is NOT what we want:\\n', d_not)"
   ]
  },
  {
   "cell_type": "code",
   "execution_count": 16,
   "metadata": {},
   "outputs": [
    {
     "data": {
      "image/png": "[encoded data removed]",
      "text/plain": [
       "<Figure size 432x288 with 1 Axes>"
      ]
     },
     "metadata": {},
     "output_type": "display_data"
    }
   ],
   "source": [
    "# Plot them just for fun\n",
    "o = [0],[0] # the origin of our vector, not really important here\n",
    "plt.quiver(*o,a[0],a[1],angles='xy', scale_units='xy',scale=1,color='g')\n",
    "plt.quiver(*o,b[0],b[1],angles='xy', scale_units='xy',scale=1,color='b')\n",
    "plt.quiver(*o,c[0],c[1],angles='xy', scale_units='xy',scale=1,color='r')\n",
    "plt.quiver(*o,d[0],d[1],angles='xy', scale_units='xy',scale=1,color='k')\n",
    "plt.xlim([-3,3])\n",
    "plt.ylim([-3,3])\n",
    "plt.grid(True)\n",
    "plt.show()"
   ]
  },
  {
   "cell_type": "markdown",
   "metadata": {},
   "source": [
    "## Tensor Algebra\n",
    "\n",
    "Here we are going to test out a few ideas namely:\n",
    "- $AB = A_{ij}B_{jk} e_i \\otimes e_k$\n",
    "- $A:B = A_{ij}B_{ij}$ \n",
    "- $\\text{trace}A = A_{ii}$\n",
    "\n",
    "Check out https://docs.scipy.org/doc/numpy/reference/generated/numpy.tensordot.html\n"
   ]
  },
  {
   "cell_type": "code",
   "execution_count": 17,
   "metadata": {},
   "outputs": [
    {
     "name": "stdout",
     "output_type": "stream",
     "text": [
      "A: [[1 2]\n",
      " [3 4]]\n",
      "B: [[5 6]\n",
      " [7 8]]\n"
     ]
    }
   ],
   "source": [
    "# Define the two tensor\n",
    "A = np.array([[1,2],[3,4]])\n",
    "print('A:',A)\n",
    "B = np.array([[5,6],[7,8]])\n",
    "print('B:',B)"
   ]
  },
  {
   "cell_type": "code",
   "execution_count": 18,
   "metadata": {},
   "outputs": [
    {
     "name": "stdout",
     "output_type": "stream",
     "text": [
      "[[19 22]\n",
      " [43 50]]\n"
     ]
    }
   ],
   "source": [
    "# Do the multiplication\n",
    "C = np.tensordot(A,B,axes=1)\n",
    "print(C)"
   ]
  },
  {
   "cell_type": "code",
   "execution_count": 144,
   "metadata": {},
   "outputs": [
    {
     "name": "stdout",
     "output_type": "stream",
     "text": [
      "[[19 22]\n",
      " [43 50]]\n"
     ]
    }
   ],
   "source": [
    "# Note this is the same as\n",
    "C = np.dot(A,B)\n",
    "print(C)"
   ]
  },
  {
   "cell_type": "code",
   "execution_count": 145,
   "metadata": {},
   "outputs": [
    {
     "name": "stdout",
     "output_type": "stream",
     "text": [
      "[[ 5 12]\n",
      " [21 32]]\n"
     ]
    }
   ],
   "source": [
    "# Note!!! This is NOT the same\n",
    "print(A*B)"
   ]
  },
  {
   "cell_type": "code",
   "execution_count": 150,
   "metadata": {},
   "outputs": [
    {
     "name": "stdout",
     "output_type": "stream",
     "text": [
      "70\n"
     ]
    }
   ],
   "source": [
    "# Do the double dot product\n",
    "AB_ddot = np.tensordot(A,B,axes=2)\n",
    "print(AB_ddot)"
   ]
  },
  {
   "cell_type": "code",
   "execution_count": 147,
   "metadata": {},
   "outputs": [
    {
     "name": "stdout",
     "output_type": "stream",
     "text": [
      "5\n"
     ]
    }
   ],
   "source": [
    "# Do the trace \n",
    "A_trace = np.trace(A)\n",
    "print(A_trace)"
   ]
  },
  {
   "cell_type": "code",
   "execution_count": 148,
   "metadata": {},
   "outputs": [
    {
     "name": "stdout",
     "output_type": "stream",
     "text": [
      "5.0\n"
     ]
    }
   ],
   "source": [
    "# Which is the same as \n",
    "I = np.eye(2) # The identity tensor\n",
    "A_trace = np.tensordot(A,I,axes=2)\n",
    "print(A_trace)"
   ]
  },
  {
   "cell_type": "code",
   "execution_count": null,
   "metadata": {},
   "outputs": [],
   "source": []
  },
  {
   "cell_type": "code",
   "execution_count": null,
   "metadata": {},
   "outputs": [],
   "source": []
  }
 ],
 "metadata": {
  "kernelspec": {
   "display_name": "Python 3",
   "language": "python",
   "name": "python3"
  },
  "language_info": {
   "codemirror_mode": {
    "name": "ipython",
    "version": 3
   },
   "file_extension": ".py",
   "mimetype": "text/x-python",
   "name": "python",
   "nbconvert_exporter": "python",
   "pygments_lexer": "ipython3",
   "version": "3.5.6"
  }
 },
 "nbformat": 4,
 "nbformat_minor": 2
}
