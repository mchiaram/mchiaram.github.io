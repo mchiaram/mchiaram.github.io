{
 "cells": [
  {
   "cell_type": "code",
   "execution_count": 1,
   "metadata": {},
   "outputs": [],
   "source": [
    "import numpy as np\n",
    "import numpy.linalg as la\n",
    "import matplotlib.pyplot as plt "
   ]
  },
  {
   "cell_type": "markdown",
   "metadata": {},
   "source": [
    "# 1-D Truss Stiffness\n",
    "\n",
    "The following code shows how to create a (1) local stiffness matrix for a truss element (2) a local to global map (3) assemble the global system matrix "
   ]
  },
  {
   "cell_type": "markdown",
   "metadata": {},
   "source": [
    "### Create the coordinates and the element information"
   ]
  },
  {
   "cell_type": "code",
   "execution_count": 9,
   "metadata": {},
   "outputs": [],
   "source": [
    "# The coordinates of each node \n",
    "coordinates = {0:0.,1:1.,2:4.,3:5.}"
   ]
  },
  {
   "cell_type": "markdown",
   "metadata": {},
   "source": [
    "The element dictionary contains for each element the product of the cross sectional area times the \n",
    "Young's modulus, the global node index corresponding to the local `i` and `j` nodes."
   ]
  },
  {
   "cell_type": "code",
   "execution_count": 10,
   "metadata": {},
   "outputs": [
    {
     "name": "stdout",
     "output_type": "stream",
     "text": [
      "{0: {'AE': 4.0, 'j': 1, 'i': 0}, 1: {'AE': 20.0, 'j': 2, 'i': 1}, 2: {'AE': 30.0, 'j': 3, 'i': 2}}\n"
     ]
    }
   ],
   "source": [
    "# Create the element dictionary.  \n",
    "elements = {} \n",
    "elements[0] = {'AE':4., 'i':0, 'j':1}\n",
    "elements[1] = {'AE':20., 'i':1, 'j':2}\n",
    "elements[2] = {'AE':30., 'i':2, 'j':3}\n",
    "print(elements)"
   ]
  },
  {
   "cell_type": "code",
   "execution_count": 11,
   "metadata": {},
   "outputs": [
    {
     "data": {
      "image/png": "[encoded data removed]",
      "text/plain": [
       "<Figure size 432x288 with 1 Axes>"
      ]
     },
     "metadata": {},
     "output_type": "display_data"
    }
   ],
   "source": [
    "# Plot the elements \n",
    "for e in elements:\n",
    "    elt = elements[e]\n",
    "    plt.plot([coordinates[elt['i']],coordinates[elt['j']]], np.zeros(2),'-r',linewidth=elt['AE'],solid_capstyle=\"butt\" )\n",
    "    plt.plot([coordinates[elt['i']],coordinates[elt['j']]], np.zeros(2),'bo' )"
   ]
  },
  {
   "cell_type": "markdown",
   "metadata": {},
   "source": [
    "### Create the local stiffness matrix\n",
    "\n",
    "Create the function that, given an element number, it returns the local stiffness matrix"
   ]
  },
  {
   "cell_type": "code",
   "execution_count": 12,
   "metadata": {},
   "outputs": [],
   "source": [
    "# The local element stiffness matric\n",
    "# @param[in] elts the element disctionary\n",
    "# @param[in] crds the coordinates of the element nodes\n",
    "# @param[in] e the element lable\n",
    "# @return the local element stiffness matrix\n",
    "def local_stiffness(elts,crds,e):\n",
    "    # Compute the lenght of the element \n",
    "    L = abs(crds[elts[e]['j']] - crds[elts[e]['i']])\n",
    "    AEL = elts[e]['AE']/L\n",
    "    return AEL*np.array([[1.,-1.],[-1.,1.]]) "
   ]
  },
  {
   "cell_type": "code",
   "execution_count": 13,
   "metadata": {},
   "outputs": [
    {
     "name": "stdout",
     "output_type": "stream",
     "text": [
      "[[ 6.66666667 -6.66666667]\n",
      " [-6.66666667  6.66666667]]\n"
     ]
    }
   ],
   "source": [
    "print( local_stiffness(elements,coordinates,1) )"
   ]
  },
  {
   "cell_type": "markdown",
   "metadata": {},
   "source": [
    "### Create the local to global map"
   ]
  },
  {
   "cell_type": "code",
   "execution_count": 14,
   "metadata": {},
   "outputs": [],
   "source": [
    "# The local to global map\n",
    "# @param[in] element dictionary\n",
    "# @param[in] element id\n",
    "# @param[in] local dof ('i' or 'j')\n",
    "# return global dof\n",
    "def local_to_global_map(elts, e, dof_idx):\n",
    "    return elts[e][dof_idx] "
   ]
  },
  {
   "cell_type": "markdown",
   "metadata": {},
   "source": [
    "### Assemble the global stiffness matrix\n",
    "We assemble the global stiffness matrix by first creating a square matrix of size $n$, with $n$ being the number of global degrees of freedom. Then we add the contribution from each element."
   ]
  },
  {
   "cell_type": "code",
   "execution_count": 29,
   "metadata": {},
   "outputs": [],
   "source": [
    "# Define the global stiffness \n",
    "K = np.zeros((4,4))"
   ]
  },
  {
   "cell_type": "code",
   "execution_count": 30,
   "metadata": {},
   "outputs": [],
   "source": [
    "# Loop over all elements\n",
    "for e in elements.keys():\n",
    "    \n",
    "    # Get the local stiffness matrix for element e\n",
    "    ke = local_stiffness(elements,coordinates,e)\n",
    "    \n",
    "    # Loop over all local degrees of freedom \n",
    "    for z_num,z in enumerate('ij'):\n",
    "        \n",
    "        # Get the global degree of freedom of the local \"i\" index\n",
    "        global_z = local_to_global_map(elements,e,z)\n",
    "        \n",
    "        for k_num,k in enumerate('ij'):\n",
    "            \n",
    "            # Get the global degree of freedom of the local \"j\" index\n",
    "            global_k = local_to_global_map(elements,e,k)\n",
    "            \n",
    "            # Add the contribution to the global matrix\n",
    "            K[global_z,global_k] += ke[z_num,k_num]      "
   ]
  },
  {
   "cell_type": "code",
   "execution_count": 31,
   "metadata": {},
   "outputs": [
    {
     "name": "stdout",
     "output_type": "stream",
     "text": [
      "[[  4.          -4.           0.           0.        ]\n",
      " [ -4.          10.66666667  -6.66666667   0.        ]\n",
      " [  0.          -6.66666667  36.66666667 -30.        ]\n",
      " [  0.           0.         -30.          30.        ]]\n"
     ]
    }
   ],
   "source": [
    "print(K)"
   ]
  },
  {
   "cell_type": "markdown",
   "metadata": {},
   "source": [
    "### Create the load vector "
   ]
  },
  {
   "cell_type": "code",
   "execution_count": 32,
   "metadata": {},
   "outputs": [],
   "source": [
    "# The load vector P contains external loads if known, otherwise 0\n",
    "P = np.zeros( K.shape[0])\n",
    "P[2] = 10"
   ]
  },
  {
   "cell_type": "markdown",
   "metadata": {},
   "source": [
    "### Apply boundary conditions\n",
    "Remember applying boundary conditions takes place in a few steps:\n",
    "1. we zero out the row of the degree of freedom\n",
    "2. we place 1 on the diagonal \n",
    "3. we place the value of the displacement in the \"load\" vector"
   ]
  },
  {
   "cell_type": "code",
   "execution_count": 33,
   "metadata": {},
   "outputs": [],
   "source": [
    "# The index of the global degree of freedom we are constraining \n",
    "dirichlet_index = [0]\n",
    "dirichlet_value = [0]"
   ]
  },
  {
   "cell_type": "code",
   "execution_count": 34,
   "metadata": {},
   "outputs": [
    {
     "name": "stdout",
     "output_type": "stream",
     "text": [
      "[[  4.          -4.           0.           0.        ]\n",
      " [ -4.          10.66666667  -6.66666667   0.        ]\n",
      " [  0.          -6.66666667  36.66666667 -30.        ]\n",
      " [  0.           0.         -30.          30.        ]]\n",
      "[[  1.          -0.           0.           0.        ]\n",
      " [ -4.          10.66666667  -6.66666667   0.        ]\n",
      " [  0.          -6.66666667  36.66666667 -30.        ]\n",
      " [  0.           0.         -30.          30.        ]]\n"
     ]
    }
   ],
   "source": [
    "# Zero out the rows of k\n",
    "print(K)\n",
    "# Save a copy for later\n",
    "K_unconstrained = K*1\n",
    "for i in dirichlet_index:\n",
    "    K[i,:] *= 0 # zeros out the row\n",
    "    K[i,i] = 1 # puts one on the diagonal\n",
    "print(K)"
   ]
  },
  {
   "cell_type": "code",
   "execution_count": 35,
   "metadata": {},
   "outputs": [],
   "source": [
    "# Set the value in the \"load\" vector\n",
    "for i in dirichlet_index:\n",
    "    P[i] = dirichlet_value[i]"
   ]
  },
  {
   "cell_type": "markdown",
   "metadata": {},
   "source": [
    "### Solve for the displacements"
   ]
  },
  {
   "cell_type": "code",
   "execution_count": 36,
   "metadata": {},
   "outputs": [
    {
     "name": "stdout",
     "output_type": "stream",
     "text": [
      "[-8.8817842e-16  2.5000000e+00  4.0000000e+00  4.0000000e+00]\n"
     ]
    }
   ],
   "source": [
    "# Solve for our unknown displacements\n",
    "u = la.solve(K,P)\n",
    "print(u)"
   ]
  },
  {
   "cell_type": "code",
   "execution_count": 249,
   "metadata": {},
   "outputs": [
    {
     "data": {
      "text/plain": [
       "(-1, 10)"
      ]
     },
     "execution_count": 249,
     "metadata": {},
     "output_type": "execute_result"
    },
    {
     "data": {
      "image/png": "[encoded data removed]",
      "text/plain": [
       "<Figure size 432x288 with 1 Axes>"
      ]
     },
     "metadata": {
      "needs_background": "light"
     },
     "output_type": "display_data"
    }
   ],
   "source": [
    "# Plot the deformed truss\n",
    "# Plot the elements \n",
    "for e in elements:\n",
    "    elt = elements[e]\n",
    "    plt.plot([coordinates[elt['i']]+u[elt['i']],coordinates[elt['j']]+u[elt['j']]], np.zeros(2),'-ro')\n",
    "    plt.plot([coordinates[elt['i']],coordinates[elt['j']]], np.zeros(2)+1,'-bo' )\n",
    "plt.ylim([-1,2])\n",
    "plt.xlim([-1,10])"
   ]
  },
  {
   "cell_type": "markdown",
   "metadata": {},
   "source": [
    "### Let's look at the eigenvalues/eigenvectors\n",
    "The eigenvectors of `K` tell you the modes of deformation and the corresponding eigenvalues the energy associated with that deformation. "
   ]
  },
  {
   "cell_type": "code",
   "execution_count": 250,
   "metadata": {},
   "outputs": [
    {
     "name": "stdout",
     "output_type": "stream",
     "text": [
      "[[  4.          -4.           0.           0.        ]\n",
      " [ -4.          10.66666667  -6.66666667   0.        ]\n",
      " [  0.          -6.66666667  36.66666667 -30.        ]\n",
      " [  0.           0.         -30.          30.        ]]\n",
      "[6.39859454e+01 1.36958434e+01 1.64414773e-15 3.65154458e+00]\n",
      "[[ 0.00625424 -0.35403799  0.5        -0.79032777]\n",
      " [-0.09379161  0.85817424  0.5        -0.0688485 ]\n",
      " [ 0.7463826  -0.17751141  0.5         0.40174957]\n",
      " [-0.65884523 -0.32662483  0.5         0.4574267 ]]\n"
     ]
    }
   ],
   "source": [
    "# Get the eigenvalues and eigenvectors\n",
    "print(K_unconstrained)\n",
    "eigenvalues, eigenvectors = la.eig(K_unconstrained)\n",
    "print(eigenvalues)\n",
    "print(eigenvectors)"
   ]
  },
  {
   "cell_type": "code",
   "execution_count": 251,
   "metadata": {},
   "outputs": [
    {
     "data": {
      "text/plain": [
       "(-1, 10)"
      ]
     },
     "execution_count": 251,
     "metadata": {},
     "output_type": "execute_result"
    },
    {
     "data": {
      "image/png": "[encoded data removed]",
      "text/plain": [
       "<Figure size 432x288 with 1 Axes>"
      ]
     },
     "metadata": {
      "needs_background": "light"
     },
     "output_type": "display_data"
    }
   ],
   "source": [
    "# Plot the eigenvectors\n",
    "for i_idx,i in enumerate(eigenvalues):\n",
    "    u = eigenvectors[i_idx]\n",
    "    for e in elements:\n",
    "        elt = elements[e]\n",
    "        plt.plot([coordinates[elt['i']],coordinates[elt['j']]], np.zeros(2)+4,'-ob',alpha=0.25,solid_capstyle=\"butt\" )\n",
    "        plt.plot([coordinates[elt['i']]+u[elt['i']],coordinates[elt['j']]+u[elt['j']]], np.zeros(2)+i_idx,'-ro',alpha=0.5,solid_capstyle=\"butt\" )\n",
    "        plt.text(6,i_idx,'%.3e'%i)\n",
    "plt.ylim([-1,5])\n",
    "plt.xlim([-1,10])"
   ]
  },
  {
   "cell_type": "code",
   "execution_count": 252,
   "metadata": {},
   "outputs": [],
   "source": [
    "ke = local_stiffness(elements,coordinates,e)"
   ]
  },
  {
   "cell_type": "code",
   "execution_count": 253,
   "metadata": {},
   "outputs": [],
   "source": [
    "l,v = la.eig(ke)"
   ]
  },
  {
   "cell_type": "code",
   "execution_count": null,
   "metadata": {},
   "outputs": [],
   "source": []
  }
 ],
 "metadata": {
  "kernelspec": {
   "display_name": "Python 3",
   "language": "python",
   "name": "python3"
  },
  "language_info": {
   "codemirror_mode": {
    "name": "ipython",
    "version": 3
   },
   "file_extension": ".py",
   "mimetype": "text/x-python",
   "name": "python",
   "nbconvert_exporter": "python",
   "pygments_lexer": "ipython3",
   "version": "3.5.6"
  }
 },
 "nbformat": 4,
 "nbformat_minor": 2
}
