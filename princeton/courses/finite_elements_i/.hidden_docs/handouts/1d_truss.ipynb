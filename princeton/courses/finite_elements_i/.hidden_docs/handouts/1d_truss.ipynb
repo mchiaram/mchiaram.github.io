{
 "cells": [
  {
   "cell_type": "code",
   "execution_count": 2,
   "metadata": {
    "collapsed": true
   },
   "outputs": [],
   "source": [
    "import numpy as np\n",
    "import matplotlib.pyplot as plt \n",
    "from IPython.core.display import HTML\n",
    "import urllib2\n",
    "HTML(urllib2.urlopen('http://computationalmechanics.princeton.edu/stylesheets/style.css').read());"
   ]
  },
  {
   "cell_type": "markdown",
   "metadata": {},
   "source": [
    "# 1-D Truss Stiffness\n",
    "\n",
    "The following code shows how to create a (1) local stiffness matrix for a truss element (2) a local to global map (3) assemble the global system matrix "
   ]
  },
  {
   "cell_type": "code",
   "execution_count": 34,
   "metadata": {
    "collapsed": true
   },
   "outputs": [],
   "source": [
    "# The coordinates of each node \n",
    "coordinates = {0:0.,1:5.,2:15.,3:5.}"
   ]
  },
  {
   "cell_type": "markdown",
   "metadata": {},
   "source": [
    "The element dictionary contains for each element the product of the cross sectional area times the \n",
    "Young's modulus, the global node index corresponding to the local `i` and `j` nodes."
   ]
  },
  {
   "cell_type": "code",
   "execution_count": 35,
   "metadata": {
    "collapsed": true
   },
   "outputs": [],
   "source": [
    "# Create the element dictionary.  \n",
    "elements = {} \n",
    "elements[0] = {'AE':4., 0:0, 1:1}\n",
    "elements[1] = {'AE':2., 0:1, 1:2}\n",
    "elements[2] = {'AE':3., 0:3, 1:2}"
   ]
  },
  {
   "cell_type": "code",
   "execution_count": 36,
   "metadata": {
    "collapsed": true
   },
   "outputs": [],
   "source": [
    "# The local dofs\n",
    "local_dofs = [0,1]\n",
    "\n",
    "# The local to global map\n",
    "# @param[in] element dictionary\n",
    "# @param[in] element id\n",
    "# @param[in] local dof ('i' or 'j')\n",
    "# return global dof\n",
    "def local_to_global_map(elts, e, dof_idx):\n",
    "    return elts[e][dof_idx] "
   ]
  },
  {
   "cell_type": "code",
   "execution_count": 51,
   "metadata": {
    "collapsed": true
   },
   "outputs": [],
   "source": [
    "def local_stiffness(elts,crds,e):\n",
    "    # Compute the lenght of the element \n",
    "    L = crds[elts[e][1]] - crds[elts[e][0]]\n",
    "    AEL = elts[e]['AE']/L\n",
    "    return AEL*np.array([[1.,-1.],[-1.,1.]]) "
   ]
  },
  {
   "cell_type": "code",
   "execution_count": 57,
   "metadata": {
    "collapsed": true
   },
   "outputs": [],
   "source": [
    "# Define the global stiffness \n",
    "K = np.zeros((4,4))"
   ]
  },
  {
   "cell_type": "code",
   "execution_count": 58,
   "metadata": {
    "collapsed": true
   },
   "outputs": [],
   "source": [
    "# Loop over all elements\n",
    "for e in elements.keys():\n",
    "    \n",
    "    # Get the local stiffness matrix\n",
    "    ke = local_stiffness(elements,coordinates,e)\n",
    "    \n",
    "    # Loop over all local entries\n",
    "    for k in local_dofs:\n",
    "        global_k = local_to_global_map(elements,e,k)\n",
    "        for z in local_dofs:\n",
    "            global_z = local_to_global_map(elements,e,z)\n",
    "            K[global_k,global_z] += ke[k,z]      "
   ]
  },
  {
   "cell_type": "code",
   "execution_count": null,
   "metadata": {
    "collapsed": true
   },
   "outputs": [],
   "source": []
  },
  {
   "cell_type": "code",
   "execution_count": null,
   "metadata": {
    "collapsed": true
   },
   "outputs": [],
   "source": []
  }
 ],
 "metadata": {
  "kernelspec": {
   "display_name": "Python 2",
   "language": "python",
   "name": "python2"
  },
  "language_info": {
   "codemirror_mode": {
    "name": "ipython",
    "version": 2
   },
   "file_extension": ".py",
   "mimetype": "text/x-python",
   "name": "python",
   "nbconvert_exporter": "python",
   "pygments_lexer": "ipython2",
   "version": "2.7.13"
  }
 },
 "nbformat": 4,
 "nbformat_minor": 2
}
